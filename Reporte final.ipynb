{
 "cells": [
  {
   "cell_type": "code",
   "execution_count": null,
   "metadata": {},
   "outputs": [],
   "source": [
    "import numpy as np\n",
    "import matplotlib.pyplot as plt\n",
    "import torch\n",
    "import sys\n",
    "\n",
    "sys.path.append('../src')\n",
    "from model import Señalizador, Resnet18"
   ]
  },
  {
   "cell_type": "markdown",
   "metadata": {},
   "source": [
    "# Importación de datos\n",
    "En primera instancia no se modificaron los datos de entrenamiento, ya que se pudo obtener un modelo de precisión aceptable en base a los datos \"brutos\""
   ]
  },
  {
   "cell_type": "code",
   "execution_count": 8,
   "metadata": {},
   "outputs": [],
   "source": [
    "from torchvision.transforms import transforms\n",
    "import torchvision\n",
    "\n",
    "\n",
    "train_data = torchvision.datasets.ImageFolder(root='gestos/train',\n",
    "                                              transform = transforms.ToTensor())\n",
    "\n",
    "validation_data = torchvision.datasets.ImageFolder(root = 'gestos/valid/',\n",
    "                                                  transform = transforms.ToTensor())\n",
    "\n",
    "test_data = torchvision.datasets.ImageFolder(root = 'gestos/test',\n",
    "                                             transform = transforms.ToTensor())\n",
    "\n"
   ]
  },
  {
   "cell_type": "markdown",
   "metadata": {},
   "source": [
    "# Inicialización de modelo \n",
    "\n",
    "A continuación se inicializará el mejor modelo que se pudo entrenar. Ya que la mayoría de sus características se definieron de forma empírica: se justificará a continuación las características que se modificaron a lo largo del estudio; las características no justificadas, fueron dejadas como constantes a lo largo de la busqueda del mejor modelo.\n",
    "\n",
    " - MaxPooling en todas las capas convolucionales (exceptuando conv3) esto disminuye el tamaño de la imágen a analizar por la capa neuronal.\n",
    " - Capas convolucionales con cada vez más filtros, y a la, cada vez menos pixeles gracias al MaxPooling; esto separa todos los filtros posibles hasta tener solo 254 filtros de un solo pixel cada uno, bastante accesible e interpretable para la capa neuronal.\n",
    " - Función de activación ReLU para todas las capas.\n",
    " - 3 capas completamente conectadas de 128, 16 y 4 neuronas respectivamente\n",
    " - Dropout de 20%, ya que en la primera versión de este modelo existía un temprano sobreajuste que impedía el aprendizaje\n",
    " - Tasa de aprendizaje 1e-3\n",
    " - Optimizador Adam, para así poder concentrarse solo en minimizar el valid loss\n",
    " - Perdida de entropía cruzada"
   ]
  },
  {
   "cell_type": "code",
   "execution_count": 3,
   "metadata": {},
   "outputs": [
    {
     "name": "stdout",
     "output_type": "stream",
     "text": [
      "Loaders initialized\n",
      "Señalizador(\n",
      "  (conv1): Conv2d(3, 18, kernel_size=(7, 7), stride=(1, 1))\n",
      "  (conv2): Conv2d(18, 18, kernel_size=(5, 5), stride=(1, 1))\n",
      "  (conv3): Conv2d(18, 36, kernel_size=(3, 3), stride=(1, 1))\n",
      "  (conv4): Conv2d(36, 64, kernel_size=(3, 3), stride=(1, 1))\n",
      "  (conv5): Conv2d(64, 64, kernel_size=(3, 3), stride=(1, 1))\n",
      "  (conv6): Conv2d(64, 128, kernel_size=(3, 3), stride=(1, 1))\n",
      "  (conv7): Conv2d(128, 254, kernel_size=(3, 3), stride=(1, 1), padding=(1, 1))\n",
      "  (mpool): MaxPool2d(kernel_size=2, stride=2, padding=0, dilation=1, ceil_mode=False)\n",
      "  (activation): ReLU()\n",
      "  (linear1): Linear(in_features=254, out_features=128, bias=True)\n",
      "  (linear2): Linear(in_features=128, out_features=16, bias=True)\n",
      "  (linear3): Linear(in_features=16, out_features=4, bias=True)\n",
      "  (dropout): Dropout(p=0.2, inplace=False)\n",
      "  (criterion): CrossEntropyLoss()\n",
      ")\n"
     ]
    }
   ],
   "source": [
    "model = Señalizador(train_data, validation_data, test_data)\n",
    "print(model.eval())"
   ]
  },
  {
   "cell_type": "markdown",
   "metadata": {},
   "source": [
    "# Proceso\n",
    "Como se mencionó anteriormente, se buscó el mejor modelo mayoritariamente de forma empírica, se probaron alrededor de 25 variaciones de el modelo antes expuesto, con un entrenamiento de hasta 100 épocas en promedio, se probó disminuyendo la cantidad de capas convolucionales, disminuyendo o aumentando la cantidad de Neuronas, cambiando la probabilidad de dropout, aumentando el salto (stride) en cada capa, cambiar el MaxPool por un AvgPool, etc. Todas las mutaciones se efectuaron con el objetivo de minimizar la perdida en la validación (valid_loss). \n",
    "\n",
    "Todas las mutaciones se efectuaron sin resultados positivos, ninguna variación fue más precisa que el primer modelo.\n",
    "\n",
    "Inevitablemente, el modelo a presentar es nuestro primer modelo. Para obtener los resultados finales se reinició el aprendizaje 5 veces con el mismo modelo por 25 épocas.\n",
    "\n",
    "También se entrenó ResNet18 por 20 épocas.\n",
    "\n",
    "# Resultados\n",
    "### Modelo propio\n",
    "\n",
    "A continuación se muestran los gráficos de las inciializaciones aleatorias de nuestro modelo, donde \"Señalizador\" representa la primera vez que se entrenó el modelo. El error de validación es muy alto ya que se usó reduction = 'sum' en la perdida de entropía cruzada.\n"
   ]
  },
  {
   "cell_type": "markdown",
   "metadata": {},
   "source": [
    "<img src=\"graficos.jpg\">"
   ]
  },
  {
   "cell_type": "markdown",
   "metadata": {},
   "source": [
    "Se obtuvieron todos los reportes de los modelos, y se recopilaron en arrays para ser visualizados fácilmente en gráficos de caja y bigote, para ver la desviación estándar y medias.\n",
    "\n",
    "A continuación se cargarán los 5 modelos, cada uno con un ciclo de aprendizaje diferente, y el primer reporte corresponde a las métricas del mejor de los 5 modelos según el accuracy, y luego se verán las métricas de los 4 modelos restantes."
   ]
  },
  {
   "cell_type": "code",
   "execution_count": 4,
   "metadata": {},
   "outputs": [
    {
     "name": "stdout",
     "output_type": "stream",
     "text": [
      "Loaders initialized\n"
     ]
    },
    {
     "data": {
      "text/plain": [
       "array([[ 6,  5, 12,  7],\n",
       "       [ 0, 27,  3,  0],\n",
       "       [ 0,  2, 19,  9],\n",
       "       [ 0,  1,  2, 27]], dtype=int64)"
      ]
     },
     "metadata": {},
     "output_type": "display_data"
    },
    {
     "name": "stdout",
     "output_type": "stream",
     "text": [
      "              precision    recall  f1-score   support\n",
      "\n",
      "           0       1.00      0.20      0.33        30\n",
      "           1       0.77      0.90      0.83        30\n",
      "           2       0.53      0.63      0.58        30\n",
      "           3       0.63      0.90      0.74        30\n",
      "\n",
      "    accuracy                           0.66       120\n",
      "   macro avg       0.73      0.66      0.62       120\n",
      "weighted avg       0.73      0.66      0.62       120\n",
      "\n",
      "Loaders initialized\n",
      "              precision    recall  f1-score   support\n",
      "\n",
      "           0       1.00      0.17      0.29        30\n",
      "           1       0.47      0.63      0.54        30\n",
      "           2       0.22      0.27      0.24        30\n",
      "           3       0.38      0.50      0.43        30\n",
      "\n",
      "    accuracy                           0.39       120\n",
      "   macro avg       0.52      0.39      0.38       120\n",
      "weighted avg       0.52      0.39      0.38       120\n",
      "\n",
      "Loaders initialized\n",
      "              precision    recall  f1-score   support\n",
      "\n",
      "           0       0.53      0.27      0.36        30\n",
      "           1       0.52      0.40      0.45        30\n",
      "           2       0.40      0.70      0.51        30\n",
      "           3       0.48      0.47      0.47        30\n",
      "\n",
      "    accuracy                           0.46       120\n",
      "   macro avg       0.48      0.46      0.45       120\n",
      "weighted avg       0.48      0.46      0.45       120\n",
      "\n",
      "Loaders initialized\n",
      "              precision    recall  f1-score   support\n",
      "\n",
      "           0       1.00      0.23      0.38        30\n",
      "           1       0.62      0.77      0.69        30\n",
      "           2       0.42      0.67      0.51        30\n",
      "           3       0.68      0.63      0.66        30\n",
      "\n",
      "    accuracy                           0.57       120\n",
      "   macro avg       0.68      0.57      0.56       120\n",
      "weighted avg       0.68      0.57      0.56       120\n",
      "\n",
      "Loaders initialized\n",
      "              precision    recall  f1-score   support\n",
      "\n",
      "           0       1.00      0.27      0.42        30\n",
      "           1       0.63      0.87      0.73        30\n",
      "           2       0.53      0.60      0.56        30\n",
      "           3       0.57      0.70      0.63        30\n",
      "\n",
      "    accuracy                           0.61       120\n",
      "   macro avg       0.68      0.61      0.59       120\n",
      "weighted avg       0.68      0.61      0.59       120\n",
      "\n"
     ]
    }
   ],
   "source": [
    "model1 = Señalizador(train_data, validation_data, test_data)\n",
    "model1.load_checkpoint(\"best_(2)ModeloEduardo_val_loss=-0.0002.pt\")\n",
    "sum_cm = model1.test(True, True)\n",
    "\n",
    "model2 = Señalizador(train_data, validation_data, test_data)\n",
    "model2.load_checkpoint(\"best_(0)ModeloEduardo_val_loss=-3.5137.pt\")\n",
    "sum_cm += model2.test(False, True)\n",
    "\n",
    "model3 = Señalizador(train_data, validation_data, test_data)\n",
    "model3.load_checkpoint(\"best_(1)ModeloEduardo_val_loss=-0.8536.pt\")\n",
    "sum_cm += model3.test(False, True)\n",
    "\n",
    "model4 = Señalizador(train_data, validation_data, test_data)\n",
    "model4.load_checkpoint(\"best_checkpoint_Eduardo.pt\")\n",
    "sum_cm += model4.test(False, True)\n",
    "\n",
    "model5 = Señalizador(train_data, validation_data, test_data)\n",
    "model5.load_checkpoint(\"best_(3)ModeloEduardo_val_loss=-0.0001.pt\")\n",
    "sum_cm += model5.test(False, True)"
   ]
  },
  {
   "cell_type": "code",
   "execution_count": 5,
   "metadata": {},
   "outputs": [
    {
     "data": {
      "image/png": "[encoded data removed]",
      "text/plain": [
       "<Figure size 432x288 with 1 Axes>"
      ]
     },
     "metadata": {
      "needs_background": "light"
     },
     "output_type": "display_data"
    }
   ],
   "source": [
    "X1 = np.array([1.0, 1.0, 1.0, 0.53, 1.0])\n",
    "X2 = np.array([0.77, 0.47, 0.52, 0.62, 0.63])\n",
    "X3 = np.array([0.53, 0.22, 0.4, 0.42, 0.53])\n",
    "X4 = np.array([0.63, 0.38, 0.48, 0.68, 0.57])\n",
    "# The most simple boxplot\n",
    "\n",
    "fig1, ax1 = plt.subplots()\n",
    "ax1.set_title(\"Barras de error para precisión\")\n",
    "precision = ax1.boxplot((X1, X2, X3, X4), labels=[\"Clase 0\", \"Clase 1\", \"Clase 2\", \"Clase 3\"], vert = False)"
   ]
  },
  {
   "cell_type": "markdown",
   "metadata": {},
   "source": [
    "Rápidamente se puede observar que nuestro modelo detecta fácilmente si no hay ningun gesto; tiene problemas para clasificar el gesto 2, y se le hace más fácil clasificar el gesto 1, que el gesto 3."
   ]
  },
  {
   "cell_type": "code",
   "execution_count": 6,
   "metadata": {},
   "outputs": [
    {
     "data": {
      "image/png": "[encoded data removed]",
      "text/plain": [
       "<Figure size 432x288 with 1 Axes>"
      ]
     },
     "metadata": {
      "needs_background": "light"
     },
     "output_type": "display_data"
    }
   ],
   "source": [
    "X1 = np.array([0.66, 0.39, 0.46, 0.57, 0.61])\n",
    "X2 = np.array([0.73, 0.52, 0.48, 0.68, 0.68])\n",
    "X3 = np.array([0.66, 0.39, 0.46, 0.57, 0.61])\n",
    "X4 = np.array([0.62, 0.38, 0.45, 0.56, 0.59])\n",
    "# The most simple boxplot\n",
    "\n",
    "fig1, ax1 = plt.subplots()\n",
    "ax1.set_title(\"Barras de error para precisión\")\n",
    "precision = ax1.boxplot((X1, X2, X3, X4), labels=[\"Accuracy\", \"Precision\", \"Recall\", \"F1 Score\"], vert = False)"
   ]
  },
  {
   "cell_type": "markdown",
   "metadata": {},
   "source": [
    "### Resultados Resnet18\n",
    "Resnet está contenido en su jupyter correspondiente en este mismo repositorio"
   ]
  },
  {
   "cell_type": "markdown",
   "metadata": {},
   "source": [
    "En el caso de Resnet18, los promedios de las métricas fueron:"
   ]
  },
  {
   "cell_type": "markdown",
   "metadata": {},
   "source": [
    "        precision    recall  f1-score   support\n",
    "           0       0.47      0.61      0.53        300\n",
    "           1       0.91      0.55      0.68        300\n",
    "           2       0.16      0.24      0.19        300\n",
    "           3       0.41      0.45      0.42        300\n",
    "    accuracy                           0.49       1200"
   ]
  },
  {
   "cell_type": "markdown",
   "metadata": {},
   "source": [
    "Lo que más se puede destacar es que al igual que nuestro modelo: Resnet18 tuvo problemas al identificar el gesto 2"
   ]
  },
  {
   "cell_type": "code",
   "execution_count": 4,
   "metadata": {},
   "outputs": [
    {
     "data": {
      "image/png": "[encoded data removed]",
      "text/plain": [
       "<Figure size 432x288 with 1 Axes>"
      ]
     },
     "metadata": {
      "needs_background": "light"
     },
     "output_type": "display_data"
    }
   ],
   "source": [
    "accuracy = np.array([0.52, 0.5, 0.48, 0.49, 0.52])\n",
    "precision = np.array([0.49, 0.46, 0.46, 0.54, 0.50])\n",
    "recall = np.array([0.55, 0.5, 0.47, 0.49, 0.52])\n",
    "f1_score = np.array([0.47 ,0.46, 0.46, 0.5, 0.49])\n",
    "fig1, ax1 = plt.subplots()\n",
    "ax1.set_title(\"Barras de error de reporte\")\n",
    "precision = ax1.boxplot((accuracy, precision, recall, f1_score),\n",
    "                        labels=[\"Accuracy\", \"Precision\", \"Recall\", \"F1 Score\"], vert = False)"
   ]
  },
  {
   "cell_type": "markdown",
   "metadata": {},
   "source": [
    "# ¿Que más se pudo haber hecho?\n",
    "Después de probar tantas mutaciones a las capas convolucionales y neuronales, se empezó a probar con la función de activación SoftPlus para prevenir el estancamiento del gradiente y probar una diferente tasa de aprendizaje. Pero por tema de tiempo límite y capacidad de computo, no se pudo seguir probando."
   ]
  },
  {
   "cell_type": "markdown",
   "metadata": {},
   "source": [
    "# Conclusiones\n",
    "\n",
    "Las redes neuronales convolucionales para clasificación de imágenes, como las entrenadas en este reporte, pueden fácilmente llegar a ser muy complejas, tanto en su estructura como en su afinamiento (hyperparámetros y estructura de la red) y el consumo de recursos requeridos para entrenarlas es muy alto en términos de tiempo y capacidad de procesamiento. Esto supone una brecha importante al querer hacer ingreso al mundo de la investigación de las CNN, u queda demostrado al ver la calidad de las redes entrenadas."
   ]
  },
  {
   "cell_type": "code",
   "execution_count": null,
   "metadata": {},
   "outputs": [],
   "source": []
  }
 ],
 "metadata": {
  "kernelspec": {
   "display_name": "Python 3",
   "language": "python",
   "name": "python3"
  },
  "language_info": {
   "codemirror_mode": {
    "name": "ipython",
    "version": 3
   },
   "file_extension": ".py",
   "mimetype": "text/x-python",
   "name": "python",
   "nbconvert_exporter": "python",
   "pygments_lexer": "ipython3",
   "version": "3.7.3"
  }
 },
 "nbformat": 4,
 "nbformat_minor": 4
}
